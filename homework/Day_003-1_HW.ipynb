{
 "cells": [
  {
   "cell_type": "markdown",
   "metadata": {},
   "source": [
    "## 練習時間\n",
    "在小量的資料上，我們用眼睛就可以看得出來程式碼是否有跑出我們理想中的結果\n",
    "\n",
    "請嘗試想像一個你需要的資料結構 (裡面的值可以是隨機的)，然後用上述的方法把它變成 pandas DataFrame\n",
    "\n",
    "#### Ex: 想像一個 dataframe 有兩個欄位，一個是國家，一個是人口，求人口數最多的國家\n",
    "\n",
    "### Hints: [隨機產生數值](https://blog.csdn.net/christianashannon/article/details/78867204)"
   ]
  },
  {
   "cell_type": "code",
   "execution_count": 29,
   "metadata": {},
   "outputs": [
    {
     "name": "stdout",
     "output_type": "stream",
     "text": [
      "   country    people\n",
      "0  Austria  41174507\n",
      "1   French  55050846\n",
      "2    Japen  33194068\n",
      "3  Algeria  72678298\n",
      "4   Brazil  76413384\n"
     ]
    }
   ],
   "source": [
    "import pandas as pd\n",
    "import numpy as np\n",
    "\n",
    "country = ['Austria','French', 'Japen', 'Algeria','Brazil' ]\n",
    "people_amount = np.random.randint(100000000, size = 5)\n",
    "\n",
    "list_labels = ['country', 'people']\n",
    "list_cols = [country, people_amount]\n",
    "\n",
    "zipped = list(zip(list_labels, list_cols))\n",
    "visitors_2 = pd.DataFrame(dict(zipped))\n",
    "print(visitors_2)"
   ]
  },
  {
   "cell_type": "code",
   "execution_count": 30,
   "metadata": {},
   "outputs": [
    {
     "name": "stdout",
     "output_type": "stream",
     "text": [
      "   國家  人口\n",
      "0  美國   1\n",
      "1  日本   2\n",
      "2  德國   3\n",
      "3  英國   4\n",
      "4  法國   5\n",
      "5  泰國   6\n"
     ]
    }
   ],
   "source": [
    "data = {'國家':['美國', '日本', '德國', '英國','法國','泰國'] ,\n",
    "        '人口': [1,2,3,4,5,6]}\n",
    "print(pd.DataFrame(data))"
   ]
  },
  {
   "cell_type": "code",
   "execution_count": null,
   "metadata": {
    "collapsed": true
   },
   "outputs": [],
   "source": []
  }
 ],
 "metadata": {
  "kernelspec": {
   "display_name": "Python 3",
   "language": "python",
   "name": "python3"
  },
  "language_info": {
   "codemirror_mode": {
    "name": "ipython",
    "version": 3
   },
   "file_extension": ".py",
   "mimetype": "text/x-python",
   "name": "python",
   "nbconvert_exporter": "python",
   "pygments_lexer": "ipython3",
   "version": "3.7.1"
  }
 },
 "nbformat": 4,
 "nbformat_minor": 2
}
